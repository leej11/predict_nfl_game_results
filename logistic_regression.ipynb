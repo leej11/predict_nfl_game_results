{
 "cells": [
  {
   "cell_type": "markdown",
   "id": "b2fab78e",
   "metadata": {},
   "source": [
    "# Analyze NFL Stats with Python\n",
    "\n",
    "### Try some of these resources for extra help as you work:\n",
    "\n",
    "* [View the Analyze NFL Stats with Python cheatsheet](https://www.codecademy.com/learn/case-study-analyze-nfl-stats/modules/nfl-stats-case-study/cheatsheet)\n",
    "* [View the solution notebook](./solution.html)\n",
    "* [Learn more about analyzing NFL stats in this introductory article](https://www.codecademy.com/courses/case-study-analyze-nfl-stats/articles/analyze-nfl-stats-with-python-article)\n",
    "\n",
    "### Looking for a challenge? Try this project without any provided code.\n",
    "* [View the unguided notebook](./unguided.ipynb)"
   ]
  },
  {
   "cell_type": "markdown",
   "id": "4c5a1426",
   "metadata": {},
   "source": [
    "## Setup and inspection"
   ]
  },
  {
   "cell_type": "code",
   "execution_count": 9,
   "id": "8cc870b1",
   "metadata": {},
   "outputs": [],
   "source": [
    "import numpy as np\n",
    "import pandas as pd\n",
    "from sklearn.linear_model import LogisticRegression\n",
    "from sklearn.preprocessing import StandardScaler\n",
    "from sklearn.model_selection import train_test_split\n",
    "from sklearn.metrics import accuracy_score\n",
    "import matplotlib.pyplot as plt\n",
    "import seaborn as sns\n",
    "%matplotlib inline"
   ]
  },
  {
   "cell_type": "markdown",
   "id": "388f14f5",
   "metadata": {},
   "source": [
    "### 1. Load the dataset\n",
    "\n",
    "After running the first cell to load all necessary libraries, we need to load our dataset. Using pandas, load the dataset `season_2021.csv` and save it as `nfl`. Inspect the first few rows."
   ]
  },
  {
   "cell_type": "markdown",
   "id": "8667b893",
   "metadata": {},
   "source": [
    "<details>\n",
    "    <summary style=\"display:list-item;\"><b>Toggle for an overview of the variables in our dataset.</b></summary>\n",
    "\n",
    "* `symbol`: team name abbreviation\n",
    "* `team_name`: team name\n",
    "* `result`: whether this team won (`W`), lost (`L`), or tied (`T`) for this game\n",
    "* `1stD_offense`: First down conversions by the team's offense\n",
    "* `TotYd_offense`: Total yards gained by the team's offense\n",
    "* `PassY_offense`: Total passing yards gained by the team's offense\n",
    "* `RushY_offense`: Total rushing yards gained by the team's offense\n",
    "* `TO_offense`: Turnovers committed by the team's offense\n",
    "* `1stD_defense`: First down conversions allowed by the team's defense\n",
    "* `TotYd_defense`: Total yards allowed by the team's defense\n",
    "* `PassY_defense`: Total passing yards allowed by the team's defense\n",
    "* `RushY_defense`: Total rushing yards allowed by the team's defense\n",
    "* `TO_defense`: Turnovers in favor of the defensive team\n",
    "\n",
    "</details>"
   ]
  },
  {
   "cell_type": "code",
   "execution_count": 10,
   "id": "384c95dc",
   "metadata": {},
   "outputs": [
    {
     "data": {
      "text/html": [
       "<div>\n",
       "<style scoped>\n",
       "    .dataframe tbody tr th:only-of-type {\n",
       "        vertical-align: middle;\n",
       "    }\n",
       "\n",
       "    .dataframe tbody tr th {\n",
       "        vertical-align: top;\n",
       "    }\n",
       "\n",
       "    .dataframe thead th {\n",
       "        text-align: right;\n",
       "    }\n",
       "</style>\n",
       "<table border=\"1\" class=\"dataframe\">\n",
       "  <thead>\n",
       "    <tr style=\"text-align: right;\">\n",
       "      <th></th>\n",
       "      <th>team_name</th>\n",
       "      <th>week</th>\n",
       "      <th>day</th>\n",
       "      <th>date</th>\n",
       "      <th>result</th>\n",
       "      <th>opponent</th>\n",
       "      <th>tm_score</th>\n",
       "      <th>opp_score</th>\n",
       "      <th>1stD_offense</th>\n",
       "      <th>TotYd_offense</th>\n",
       "      <th>PassY_offense</th>\n",
       "      <th>RushY_offense</th>\n",
       "      <th>TO_offense</th>\n",
       "      <th>1stD_defense</th>\n",
       "      <th>TotYd_defense</th>\n",
       "      <th>PassY_defense</th>\n",
       "      <th>RushY_defense</th>\n",
       "      <th>TO_defense</th>\n",
       "    </tr>\n",
       "  </thead>\n",
       "  <tbody>\n",
       "    <tr>\n",
       "      <th>0</th>\n",
       "      <td>Arizona Cardinals</td>\n",
       "      <td>1</td>\n",
       "      <td>Sun</td>\n",
       "      <td>September 12</td>\n",
       "      <td>W</td>\n",
       "      <td>Tennessee Titans</td>\n",
       "      <td>38</td>\n",
       "      <td>13</td>\n",
       "      <td>22</td>\n",
       "      <td>416</td>\n",
       "      <td>280</td>\n",
       "      <td>136</td>\n",
       "      <td>1</td>\n",
       "      <td>17</td>\n",
       "      <td>248</td>\n",
       "      <td>162</td>\n",
       "      <td>86</td>\n",
       "      <td>3</td>\n",
       "    </tr>\n",
       "    <tr>\n",
       "      <th>1</th>\n",
       "      <td>Arizona Cardinals</td>\n",
       "      <td>2</td>\n",
       "      <td>Sun</td>\n",
       "      <td>September 19</td>\n",
       "      <td>W</td>\n",
       "      <td>Minnesota Vikings</td>\n",
       "      <td>34</td>\n",
       "      <td>33</td>\n",
       "      <td>21</td>\n",
       "      <td>474</td>\n",
       "      <td>371</td>\n",
       "      <td>103</td>\n",
       "      <td>2</td>\n",
       "      <td>22</td>\n",
       "      <td>419</td>\n",
       "      <td>242</td>\n",
       "      <td>177</td>\n",
       "      <td>0</td>\n",
       "    </tr>\n",
       "    <tr>\n",
       "      <th>2</th>\n",
       "      <td>Arizona Cardinals</td>\n",
       "      <td>3</td>\n",
       "      <td>Sun</td>\n",
       "      <td>September 26</td>\n",
       "      <td>W</td>\n",
       "      <td>Jacksonville Jaguars</td>\n",
       "      <td>31</td>\n",
       "      <td>19</td>\n",
       "      <td>23</td>\n",
       "      <td>407</td>\n",
       "      <td>316</td>\n",
       "      <td>91</td>\n",
       "      <td>1</td>\n",
       "      <td>20</td>\n",
       "      <td>361</td>\n",
       "      <td>202</td>\n",
       "      <td>159</td>\n",
       "      <td>4</td>\n",
       "    </tr>\n",
       "    <tr>\n",
       "      <th>3</th>\n",
       "      <td>Arizona Cardinals</td>\n",
       "      <td>4</td>\n",
       "      <td>Sun</td>\n",
       "      <td>October 3</td>\n",
       "      <td>W</td>\n",
       "      <td>Los Angeles Rams</td>\n",
       "      <td>37</td>\n",
       "      <td>20</td>\n",
       "      <td>27</td>\n",
       "      <td>465</td>\n",
       "      <td>249</td>\n",
       "      <td>216</td>\n",
       "      <td>0</td>\n",
       "      <td>24</td>\n",
       "      <td>401</td>\n",
       "      <td>280</td>\n",
       "      <td>121</td>\n",
       "      <td>2</td>\n",
       "    </tr>\n",
       "    <tr>\n",
       "      <th>4</th>\n",
       "      <td>Arizona Cardinals</td>\n",
       "      <td>5</td>\n",
       "      <td>Sun</td>\n",
       "      <td>October 10</td>\n",
       "      <td>W</td>\n",
       "      <td>San Francisco 49ers</td>\n",
       "      <td>17</td>\n",
       "      <td>10</td>\n",
       "      <td>20</td>\n",
       "      <td>304</td>\n",
       "      <td>210</td>\n",
       "      <td>94</td>\n",
       "      <td>1</td>\n",
       "      <td>19</td>\n",
       "      <td>338</td>\n",
       "      <td>186</td>\n",
       "      <td>152</td>\n",
       "      <td>1</td>\n",
       "    </tr>\n",
       "  </tbody>\n",
       "</table>\n",
       "</div>"
      ],
      "text/plain": [
       "           team_name week  day          date result              opponent  \\\n",
       "0  Arizona Cardinals    1  Sun  September 12      W      Tennessee Titans   \n",
       "1  Arizona Cardinals    2  Sun  September 19      W     Minnesota Vikings   \n",
       "2  Arizona Cardinals    3  Sun  September 26      W  Jacksonville Jaguars   \n",
       "3  Arizona Cardinals    4  Sun     October 3      W      Los Angeles Rams   \n",
       "4  Arizona Cardinals    5  Sun    October 10      W   San Francisco 49ers   \n",
       "\n",
       "   tm_score  opp_score  1stD_offense  TotYd_offense  PassY_offense  \\\n",
       "0        38         13            22            416            280   \n",
       "1        34         33            21            474            371   \n",
       "2        31         19            23            407            316   \n",
       "3        37         20            27            465            249   \n",
       "4        17         10            20            304            210   \n",
       "\n",
       "   RushY_offense  TO_offense  1stD_defense  TotYd_defense  PassY_defense  \\\n",
       "0            136           1            17            248            162   \n",
       "1            103           2            22            419            242   \n",
       "2             91           1            20            361            202   \n",
       "3            216           0            24            401            280   \n",
       "4             94           1            19            338            186   \n",
       "\n",
       "   RushY_defense  TO_defense  \n",
       "0             86           3  \n",
       "1            177           0  \n",
       "2            159           4  \n",
       "3            121           2  \n",
       "4            152           1  "
      ]
     },
     "execution_count": 10,
     "metadata": {},
     "output_type": "execute_result"
    }
   ],
   "source": [
    "# load dataset\n",
    "df = pd.read_csv('season_2021.csv')\n",
    "\n",
    "# inspect first few rows\n",
    "df.head()"
   ]
  },
  {
   "cell_type": "markdown",
   "id": "838104c7",
   "metadata": {},
   "source": [
    "<details>\n",
    "    <summary style=\"display:list-item; font-size:16px; color:blue;\"><i>What did we discover in this step? Toggle to check!</i></summary>\n",
    "\n",
    "The NFL dataset consists of comprehensive data on the games that took place throughout the 2021 season. We can see game details along the column axis and each game along the row axis. We can find the name of each team, the date and time of the game, the outcome of the game, and the stats accumulated during the game. \n",
    "\n",
    "</details>"
   ]
  },
  {
   "cell_type": "markdown",
   "id": "9b022de9",
   "metadata": {},
   "source": [
    "### 2. Summarize outcomes\n",
    "\n",
    "Next, we want to examine our outcome variable to find out how wins and losses are recorded. Check the counts of each value of the `result` variable."
   ]
  },
  {
   "cell_type": "code",
   "execution_count": 11,
   "id": "cc61ee21",
   "metadata": {},
   "outputs": [
    {
     "data": {
      "text/plain": [
       "W    284\n",
       "L    284\n",
       "T      2\n",
       "Name: result, dtype: int64"
      ]
     },
     "execution_count": 11,
     "metadata": {},
     "output_type": "execute_result"
    }
   ],
   "source": [
    "# check result value counts\n",
    "df.result.value_counts()"
   ]
  },
  {
   "cell_type": "markdown",
   "id": "c2e85067",
   "metadata": {},
   "source": [
    "<details>\n",
    "    <summary style=\"display:list-item; font-size:16px; color:blue;\"><i>What did we discover in this step? Toggle to check!</i></summary>\n",
    "\n",
    "The `result` variable is encoded with letters for a win (`W`), a loss (`L`), or a tie (`T`). There were 285 games played, but only 284 with a winner. One of the games was a tie (reported as `T` for each of the two teams who played in that game).\n",
    "\n",
    "</details>"
   ]
  },
  {
   "cell_type": "markdown",
   "id": "53e74299",
   "metadata": {},
   "source": [
    "### 3. Encode the result labels\n",
    "\n",
    "We have two problems with the `result` variable:\n",
    "* The `T` group is very small, which can lead to issues with our model's performance.\n",
    "* Our regression algorithm requires numeric values as the outcome, but ours is coded with letters.\n",
    "\n",
    "We can solve both of these issues in one step! We'll group the tie with the losses and convert to 1 for wins and 0 for ties and losses.\n",
    "\n",
    "Using the provided encoder, use the `.replace()` function to convert the `result` column values to numeric values. Then check the value counts again to make sure you have only two categories that are numbers rather than letters."
   ]
  },
  {
   "cell_type": "code",
   "execution_count": 12,
   "id": "77178bee",
   "metadata": {},
   "outputs": [
    {
     "data": {
      "text/plain": [
       "0    286\n",
       "1    284\n",
       "Name: result, dtype: int64"
      ]
     },
     "execution_count": 12,
     "metadata": {},
     "output_type": "execute_result"
    }
   ],
   "source": [
    "# nested dictionary to encode alphanumeric values to numeric values\n",
    "result_encoder = {'result': {'W': 1, 'T': 0, 'L': 0}}\n",
    "\n",
    "# encode result column using encoder\n",
    "df = df.replace(result_encoder)\n",
    "\n",
    "# check result value counts\n",
    "df.result.value_counts()"
   ]
  },
  {
   "cell_type": "markdown",
   "id": "b7a23cd9",
   "metadata": {},
   "source": [
    "<details>\n",
    "    <summary style=\"display:list-item; font-size:16px; color:blue;\"><i>What did we discover in this step? Toggle to check!</i></summary>\n",
    "\n",
    "We combined ties with losses and encoded the group as 0s. Wins were encoded as 1s. We can see we now have two groups that are nearly the same size.\n",
    "\n",
    "</details>"
   ]
  },
  {
   "cell_type": "markdown",
   "id": "2248c64d",
   "metadata": {},
   "source": [
    "### 4. Visualize the stats\n",
    "\n",
    "Now let's take a moment to explore trends in the stats we will be using to predict wins. The variable `stat` has been set to `1stD_offense` by default. \n",
    "\n",
    "Use `sns.boxplot()` to create a box plot of `stat` by wins and losses. Set the `x`, `y`, and `data` parameters inside the function and save the plot as `stat_plot`.\n",
    "\n",
    "We've included code for plot labels and to view a list of the names of the stats in the dataset. Try changing the value of the `stat` variable to any one of the stat names and run the cell again to see a plot of how losing teams' stats compare to winning teams' stats."
   ]
  },
  {
   "cell_type": "code",
   "execution_count": 13,
   "id": "fd1c6dc4",
   "metadata": {
    "scrolled": true
   },
   "outputs": [
    {
     "data": {
      "image/png": "[encoded data removed]",
      "text/plain": [
       "<Figure size 640x480 with 1 Axes>"
      ]
     },
     "metadata": {},
     "output_type": "display_data"
    },
    {
     "name": "stdout",
     "output_type": "stream",
     "text": [
      "Index(['1stD_offense', 'TotYd_offense', 'PassY_offense', 'RushY_offense',\n",
      "       'TO_offense', '1stD_defense', 'TotYd_defense', 'PassY_defense',\n",
      "       'RushY_defense', 'TO_defense'],\n",
      "      dtype='object')\n"
     ]
    }
   ],
   "source": [
    "# change stat to view plot\n",
    "stat = '1stD_offense'\n",
    "\n",
    "# box plot of stat\n",
    "stat_plot = sns.boxplot(data=df, x='result', y=stat)\n",
    "\n",
    "# plot labels\n",
    "stat_plot.set_xticklabels(['loss/tie','win'])\n",
    "\n",
    "stat_plot.set_title('1st Down Conversions - Loss vs. Win')\n",
    "plt.show()\n",
    "# list feature names\n",
    "print(df.columns[8:])"
   ]
  },
  {
   "cell_type": "markdown",
   "id": "1840ce02",
   "metadata": {},
   "source": [
    "<details>\n",
    "    <summary style=\"display:list-item; font-size:16px; color:blue;\"><i>What did we discover in this step? Toggle to check!</i></summary>\n",
    "\n",
    "Box plots show us the distribution of a stat. For `1stD_offense`, we see that:\n",
    "* First down conversions by the offense are typically between 12 and 33 in winning games (as depicted by the T-shaped ends of the plot). \n",
    "* The middle 50% of winning games appears to cover about 20 to 26 first down conversions (as depicted by the orange box).\n",
    "* The middle line indicates a median of about 23 first down conversions by the winning team. \n",
    "\n",
    "What does this plot tell us when we compare it to first downs in losing games? While there is a range for either, the winning team typically has a higher number of first downs in a game.\n",
    "    \n",
    "The trend we find when looking through all the stats is that winning teams have higher offensive stats on average (indicating more opportunities to score points) and lower defensive stats on average (indicating fewer opportunities for the opponent to score points). This is good news for our machine learning algorithm, as it should be straightforward for the algorithm to learn this pattern among the data.\n",
    "\n",
    "</details>"
   ]
  },
  {
   "cell_type": "markdown",
   "id": "2b608d90",
   "metadata": {},
   "source": [
    "## Data Preparation"
   ]
  },
  {
   "cell_type": "markdown",
   "id": "f0669cf1",
   "metadata": {},
   "source": [
    "### 5. Standardize features\n",
    "\n",
    "Before running our regression, we need to prepare our data by standardizing all the game stats. The provided code saves the game stats to a variable named `features` and saves the necessary scaling function as `scaler`.\n",
    "\n",
    "Use the function `scaler.fit()` to fit `features` to the the scaling function. Then use `scaler.transform()` to standardize the game stats. Save this output as `X`."
   ]
  },
  {
   "cell_type": "code",
   "execution_count": 14,
   "id": "686fd4ba",
   "metadata": {},
   "outputs": [],
   "source": [
    "# select feature variables to be scaled\n",
    "features = df.iloc[:,8:]\n",
    "scaler = StandardScaler()\n",
    "\n",
    "# fit the transformer to the features\n",
    "X = scaler.fit_transform(features)\n",
    "\n",
    "# transform and save as X\n",
    "## YOUR CODE HERE ##"
   ]
  },
  {
   "cell_type": "markdown",
   "id": "2544e02a",
   "metadata": {},
   "source": [
    "<details>\n",
    "    <summary style=\"display:list-item; font-size:16px; color:blue;\"><i>What did we discover in this step? Toggle to check!</i></summary>\n",
    "\n",
    "How did the functions from the `sklearn` library standardize our stats? The functions transformed our stats by subtracting the mean and dividing by the standard deviation. The result is that each stat now has a mean of 0 and a standard deviation of 1. Some benefits of standardizing include:\n",
    "* All the stats will be put in the same units, so we can compare them to one another and see which were most important to the model later in the process.\n",
    "* Many tuning techniques require standardization. We can use those techniques to improve prediction model accuracy.\n",
    "\n",
    "</details>"
   ]
  },
  {
   "cell_type": "markdown",
   "id": "328a0a2c",
   "metadata": {},
   "source": [
    "### 6. Save game outcomes\n",
    "\n",
    "Let's also separate our game outcome variable for easier reference. Save the game outcomes as a variable called `y`."
   ]
  },
  {
   "cell_type": "code",
   "execution_count": 15,
   "id": "c39c2bf8-0e29-426e-b344-9eb55f47b36a",
   "metadata": {},
   "outputs": [
    {
     "data": {
      "text/html": [
       "<div>\n",
       "<style scoped>\n",
       "    .dataframe tbody tr th:only-of-type {\n",
       "        vertical-align: middle;\n",
       "    }\n",
       "\n",
       "    .dataframe tbody tr th {\n",
       "        vertical-align: top;\n",
       "    }\n",
       "\n",
       "    .dataframe thead th {\n",
       "        text-align: right;\n",
       "    }\n",
       "</style>\n",
       "<table border=\"1\" class=\"dataframe\">\n",
       "  <thead>\n",
       "    <tr style=\"text-align: right;\">\n",
       "      <th></th>\n",
       "      <th>team_name</th>\n",
       "      <th>week</th>\n",
       "      <th>day</th>\n",
       "      <th>date</th>\n",
       "      <th>result</th>\n",
       "      <th>opponent</th>\n",
       "      <th>tm_score</th>\n",
       "      <th>opp_score</th>\n",
       "      <th>1stD_offense</th>\n",
       "      <th>TotYd_offense</th>\n",
       "      <th>PassY_offense</th>\n",
       "      <th>RushY_offense</th>\n",
       "      <th>TO_offense</th>\n",
       "      <th>1stD_defense</th>\n",
       "      <th>TotYd_defense</th>\n",
       "      <th>PassY_defense</th>\n",
       "      <th>RushY_defense</th>\n",
       "      <th>TO_defense</th>\n",
       "    </tr>\n",
       "  </thead>\n",
       "  <tbody>\n",
       "    <tr>\n",
       "      <th>0</th>\n",
       "      <td>Arizona Cardinals</td>\n",
       "      <td>1</td>\n",
       "      <td>Sun</td>\n",
       "      <td>September 12</td>\n",
       "      <td>1</td>\n",
       "      <td>Tennessee Titans</td>\n",
       "      <td>38</td>\n",
       "      <td>13</td>\n",
       "      <td>22</td>\n",
       "      <td>416</td>\n",
       "      <td>280</td>\n",
       "      <td>136</td>\n",
       "      <td>1</td>\n",
       "      <td>17</td>\n",
       "      <td>248</td>\n",
       "      <td>162</td>\n",
       "      <td>86</td>\n",
       "      <td>3</td>\n",
       "    </tr>\n",
       "    <tr>\n",
       "      <th>1</th>\n",
       "      <td>Arizona Cardinals</td>\n",
       "      <td>2</td>\n",
       "      <td>Sun</td>\n",
       "      <td>September 19</td>\n",
       "      <td>1</td>\n",
       "      <td>Minnesota Vikings</td>\n",
       "      <td>34</td>\n",
       "      <td>33</td>\n",
       "      <td>21</td>\n",
       "      <td>474</td>\n",
       "      <td>371</td>\n",
       "      <td>103</td>\n",
       "      <td>2</td>\n",
       "      <td>22</td>\n",
       "      <td>419</td>\n",
       "      <td>242</td>\n",
       "      <td>177</td>\n",
       "      <td>0</td>\n",
       "    </tr>\n",
       "    <tr>\n",
       "      <th>2</th>\n",
       "      <td>Arizona Cardinals</td>\n",
       "      <td>3</td>\n",
       "      <td>Sun</td>\n",
       "      <td>September 26</td>\n",
       "      <td>1</td>\n",
       "      <td>Jacksonville Jaguars</td>\n",
       "      <td>31</td>\n",
       "      <td>19</td>\n",
       "      <td>23</td>\n",
       "      <td>407</td>\n",
       "      <td>316</td>\n",
       "      <td>91</td>\n",
       "      <td>1</td>\n",
       "      <td>20</td>\n",
       "      <td>361</td>\n",
       "      <td>202</td>\n",
       "      <td>159</td>\n",
       "      <td>4</td>\n",
       "    </tr>\n",
       "    <tr>\n",
       "      <th>3</th>\n",
       "      <td>Arizona Cardinals</td>\n",
       "      <td>4</td>\n",
       "      <td>Sun</td>\n",
       "      <td>October 3</td>\n",
       "      <td>1</td>\n",
       "      <td>Los Angeles Rams</td>\n",
       "      <td>37</td>\n",
       "      <td>20</td>\n",
       "      <td>27</td>\n",
       "      <td>465</td>\n",
       "      <td>249</td>\n",
       "      <td>216</td>\n",
       "      <td>0</td>\n",
       "      <td>24</td>\n",
       "      <td>401</td>\n",
       "      <td>280</td>\n",
       "      <td>121</td>\n",
       "      <td>2</td>\n",
       "    </tr>\n",
       "    <tr>\n",
       "      <th>4</th>\n",
       "      <td>Arizona Cardinals</td>\n",
       "      <td>5</td>\n",
       "      <td>Sun</td>\n",
       "      <td>October 10</td>\n",
       "      <td>1</td>\n",
       "      <td>San Francisco 49ers</td>\n",
       "      <td>17</td>\n",
       "      <td>10</td>\n",
       "      <td>20</td>\n",
       "      <td>304</td>\n",
       "      <td>210</td>\n",
       "      <td>94</td>\n",
       "      <td>1</td>\n",
       "      <td>19</td>\n",
       "      <td>338</td>\n",
       "      <td>186</td>\n",
       "      <td>152</td>\n",
       "      <td>1</td>\n",
       "    </tr>\n",
       "  </tbody>\n",
       "</table>\n",
       "</div>"
      ],
      "text/plain": [
       "           team_name week  day          date  result              opponent  \\\n",
       "0  Arizona Cardinals    1  Sun  September 12       1      Tennessee Titans   \n",
       "1  Arizona Cardinals    2  Sun  September 19       1     Minnesota Vikings   \n",
       "2  Arizona Cardinals    3  Sun  September 26       1  Jacksonville Jaguars   \n",
       "3  Arizona Cardinals    4  Sun     October 3       1      Los Angeles Rams   \n",
       "4  Arizona Cardinals    5  Sun    October 10       1   San Francisco 49ers   \n",
       "\n",
       "   tm_score  opp_score  1stD_offense  TotYd_offense  PassY_offense  \\\n",
       "0        38         13            22            416            280   \n",
       "1        34         33            21            474            371   \n",
       "2        31         19            23            407            316   \n",
       "3        37         20            27            465            249   \n",
       "4        17         10            20            304            210   \n",
       "\n",
       "   RushY_offense  TO_offense  1stD_defense  TotYd_defense  PassY_defense  \\\n",
       "0            136           1            17            248            162   \n",
       "1            103           2            22            419            242   \n",
       "2             91           1            20            361            202   \n",
       "3            216           0            24            401            280   \n",
       "4             94           1            19            338            186   \n",
       "\n",
       "   RushY_defense  TO_defense  \n",
       "0             86           3  \n",
       "1            177           0  \n",
       "2            159           4  \n",
       "3            121           2  \n",
       "4            152           1  "
      ]
     },
     "execution_count": 15,
     "metadata": {},
     "output_type": "execute_result"
    }
   ],
   "source": [
    "df.head()"
   ]
  },
  {
   "cell_type": "code",
   "execution_count": 16,
   "id": "fff4a8f8",
   "metadata": {},
   "outputs": [],
   "source": [
    "# save result variable as y\n",
    "y = df.result"
   ]
  },
  {
   "cell_type": "markdown",
   "id": "30d66b8f",
   "metadata": {},
   "source": [
    "### 7. Split into training and testing data\n",
    "\n",
    "We need to randomly split the data into two groups:\n",
    "* **training data:** we'll use this data to train our model to recognize winning games from patterns in the game stats.\n",
    "* **testing data:** we'll use this data to check our model's accuracy.\n",
    "\n",
    "Use the `train_test_split()` function imported from the `sklearn` library to split the data. This function will split up our features and result labels into training data and testing data, with `test_size` corresponding to the proportion of data reserved for testing. Set `test_size` to 0.5 and `random_state` to 42."
   ]
  },
  {
   "cell_type": "code",
   "execution_count": 17,
   "id": "b0ebdb9f",
   "metadata": {},
   "outputs": [],
   "source": [
    "# create train-test split of the data\n",
    "X_train, X_test, y_train, y_test = train_test_split(X, y, test_size=0.5, random_state=42)"
   ]
  },
  {
   "cell_type": "markdown",
   "id": "b9b92360",
   "metadata": {},
   "source": [
    "<details>\n",
    "    <summary style=\"display:list-item; font-size:16px; color:blue;\"><i>What did we discover in this step? Toggle to check!</i></summary>\n",
    "\n",
    "We saved our training data as `X_train` (game stats) and `y_train` (game outcome) and our testing data as `X_test` (game stats) and `y_test` (game outcome).\n",
    "    \n",
    "One benefit of using the `train_test_split()` is that rows are selected at random throughout the dataset. This is important in-context because, had we not selected at random, we might bias our model to specific teams or to the early games of the season.\n",
    "    \n",
    "In this case, we are using a test size of 0.5, meaning half of our data will be used to train the model and half will be used to test the model's accuracy. We give `random_state` a number just to guarantee that anyone who runs this notebook will get the same random split that we did.\n",
    "\n",
    "</details>"
   ]
  },
  {
   "cell_type": "markdown",
   "id": "48c21f67",
   "metadata": {},
   "source": [
    "## Analysis"
   ]
  },
  {
   "cell_type": "markdown",
   "id": "3f4bd4ec",
   "metadata": {},
   "source": [
    "### 8. Run the model\n",
    "\n",
    "In this step, we'll train our model to use the patterns of the offensive and defensive stats to predict the probability of a winning game.\n",
    "\n",
    "Create a `LogisticRegression()` classifier and save it to the variable `lrc`. Then call the `.fit()` function using the training data `X_train` and `y_train`."
   ]
  },
  {
   "cell_type": "code",
   "execution_count": 18,
   "id": "81d3521c",
   "metadata": {},
   "outputs": [
    {
     "data": {
      "text/html": [
       "<style>#sk-container-id-1 {color: black;background-color: white;}#sk-container-id-1 pre{padding: 0;}#sk-container-id-1 div.sk-toggleable {background-color: white;}#sk-container-id-1 label.sk-toggleable__label {cursor: pointer;display: block;width: 100%;margin-bottom: 0;padding: 0.3em;box-sizing: border-box;text-align: center;}#sk-container-id-1 label.sk-toggleable__label-arrow:before {content: \"▸\";float: left;margin-right: 0.25em;color: #696969;}#sk-container-id-1 label.sk-toggleable__label-arrow:hover:before {color: black;}#sk-container-id-1 div.sk-estimator:hover label.sk-toggleable__label-arrow:before {color: black;}#sk-container-id-1 div.sk-toggleable__content {max-height: 0;max-width: 0;overflow: hidden;text-align: left;background-color: #f0f8ff;}#sk-container-id-1 div.sk-toggleable__content pre {margin: 0.2em;color: black;border-radius: 0.25em;background-color: #f0f8ff;}#sk-container-id-1 input.sk-toggleable__control:checked~div.sk-toggleable__content {max-height: 200px;max-width: 100%;overflow: auto;}#sk-container-id-1 input.sk-toggleable__control:checked~label.sk-toggleable__label-arrow:before {content: \"▾\";}#sk-container-id-1 div.sk-estimator input.sk-toggleable__control:checked~label.sk-toggleable__label {background-color: #d4ebff;}#sk-container-id-1 div.sk-label input.sk-toggleable__control:checked~label.sk-toggleable__label {background-color: #d4ebff;}#sk-container-id-1 input.sk-hidden--visually {border: 0;clip: rect(1px 1px 1px 1px);clip: rect(1px, 1px, 1px, 1px);height: 1px;margin: -1px;overflow: hidden;padding: 0;position: absolute;width: 1px;}#sk-container-id-1 div.sk-estimator {font-family: monospace;background-color: #f0f8ff;border: 1px dotted black;border-radius: 0.25em;box-sizing: border-box;margin-bottom: 0.5em;}#sk-container-id-1 div.sk-estimator:hover {background-color: #d4ebff;}#sk-container-id-1 div.sk-parallel-item::after {content: \"\";width: 100%;border-bottom: 1px solid gray;flex-grow: 1;}#sk-container-id-1 div.sk-label:hover label.sk-toggleable__label {background-color: #d4ebff;}#sk-container-id-1 div.sk-serial::before {content: \"\";position: absolute;border-left: 1px solid gray;box-sizing: border-box;top: 0;bottom: 0;left: 50%;z-index: 0;}#sk-container-id-1 div.sk-serial {display: flex;flex-direction: column;align-items: center;background-color: white;padding-right: 0.2em;padding-left: 0.2em;position: relative;}#sk-container-id-1 div.sk-item {position: relative;z-index: 1;}#sk-container-id-1 div.sk-parallel {display: flex;align-items: stretch;justify-content: center;background-color: white;position: relative;}#sk-container-id-1 div.sk-item::before, #sk-container-id-1 div.sk-parallel-item::before {content: \"\";position: absolute;border-left: 1px solid gray;box-sizing: border-box;top: 0;bottom: 0;left: 50%;z-index: -1;}#sk-container-id-1 div.sk-parallel-item {display: flex;flex-direction: column;z-index: 1;position: relative;background-color: white;}#sk-container-id-1 div.sk-parallel-item:first-child::after {align-self: flex-end;width: 50%;}#sk-container-id-1 div.sk-parallel-item:last-child::after {align-self: flex-start;width: 50%;}#sk-container-id-1 div.sk-parallel-item:only-child::after {width: 0;}#sk-container-id-1 div.sk-dashed-wrapped {border: 1px dashed gray;margin: 0 0.4em 0.5em 0.4em;box-sizing: border-box;padding-bottom: 0.4em;background-color: white;}#sk-container-id-1 div.sk-label label {font-family: monospace;font-weight: bold;display: inline-block;line-height: 1.2em;}#sk-container-id-1 div.sk-label-container {text-align: center;}#sk-container-id-1 div.sk-container {/* jupyter's `normalize.less` sets `[hidden] { display: none; }` but bootstrap.min.css set `[hidden] { display: none !important; }` so we also need the `!important` here to be able to override the default hidden behavior on the sphinx rendered scikit-learn.org. See: https://github.com/scikit-learn/scikit-learn/issues/21755 */display: inline-block !important;position: relative;}#sk-container-id-1 div.sk-text-repr-fallback {display: none;}</style><div id=\"sk-container-id-1\" class=\"sk-top-container\"><div class=\"sk-text-repr-fallback\"><pre>LogisticRegression()</pre><b>In a Jupyter environment, please rerun this cell to show the HTML representation or trust the notebook. <br />On GitHub, the HTML representation is unable to render, please try loading this page with nbviewer.org.</b></div><div class=\"sk-container\" hidden><div class=\"sk-item\"><div class=\"sk-estimator sk-toggleable\"><input class=\"sk-toggleable__control sk-hidden--visually\" id=\"sk-estimator-id-1\" type=\"checkbox\" checked><label for=\"sk-estimator-id-1\" class=\"sk-toggleable__label sk-toggleable__label-arrow\">LogisticRegression</label><div class=\"sk-toggleable__content\"><pre>LogisticRegression()</pre></div></div></div></div></div>"
      ],
      "text/plain": [
       "LogisticRegression()"
      ]
     },
     "execution_count": 18,
     "metadata": {},
     "output_type": "execute_result"
    }
   ],
   "source": [
    "# create the classifier\n",
    "lrc = LogisticRegression()\n",
    "\n",
    "# fit classifier to the training data\n",
    "lrc.fit(X_train, y_train)"
   ]
  },
  {
   "cell_type": "markdown",
   "id": "211af520",
   "metadata": {},
   "source": [
    "### 9. Check model accuracy\n",
    "\n",
    "With our classifier fitted (trained) to the training data, we can use the trained classifier to make predictions on the test data. Pass the test features `X_test` as a parameter  of `lrc.predict()` and save the resulting predictions as `y_pred`.\n",
    "\n",
    "Now we can check the percentage of outcomes that our model predicted correctly. Use the `accuracy_score()` function imported from the `sklearn` library to compare our predicted test values `y_pred` to the true values `y_test`."
   ]
  },
  {
   "cell_type": "code",
   "execution_count": 19,
   "id": "ab2e1383",
   "metadata": {},
   "outputs": [
    {
     "data": {
      "text/plain": [
       "0.8280701754385965"
      ]
     },
     "execution_count": 19,
     "metadata": {},
     "output_type": "execute_result"
    }
   ],
   "source": [
    "# predict with the classifier using the .predict() function\n",
    "y_pred = lrc.predict(X_test)\n",
    "\n",
    "# view the model accuracy with the accuracy_score() function\n",
    "accuracy_score(y_test, y_pred,)"
   ]
  },
  {
   "cell_type": "markdown",
   "id": "8ce0f99d",
   "metadata": {},
   "source": [
    "<details>\n",
    "    <summary style=\"display:list-item; font-size:16px; color:blue;\"><i>What did we discover in this step? Toggle to check!</i></summary>\n",
    "\n",
    "We can see from the model performance that we can predict wins and losses with good accuracy. Our model correctly predicted the game outcome for 82.8% of the games in the test set. The next steps might be to try to tune the model to optimize predictive performance.\n",
    "\n",
    "</details>"
   ]
  },
  {
   "cell_type": "markdown",
   "id": "c31f3ac6",
   "metadata": {},
   "source": [
    "### 10. Optimize by tuning hyperparameters\n",
    "\n",
    "We can improve our model performance by closely studying how different paremeters affect performance. Let's consider two hyperparameters for the `LogisticRegression` classifer: `penalty` and `C`.\n",
    "\n",
    "* `penalty` imposes a regularization penalty on the model for having too many variables. Our options generally are `l1` and `l2` regularization.\n",
    "* `C` is the inverse of regularization strength. It is applying a penalty to increasing the magnitude of parameter values in order to reduce overfitting.\n",
    "\n",
    "The following code runs a logistic regression on our same data and gets an accuracy score for each combination of `penalty` and `C`. Run the code to see how model accuracy changes when we use different values of these hyperparameters. If you'd like, try changing the values of `C` in the list."
   ]
  },
  {
   "cell_type": "code",
   "execution_count": 20,
   "id": "721ab861",
   "metadata": {},
   "outputs": [
    {
     "name": "stdout",
     "output_type": "stream",
     "text": [
      "Accuracy: 52.3% | penalty = l1, C = 0.01\n",
      "Accuracy: 84.6% | penalty = l1, C = 0.1\n",
      "Accuracy: 83.2% | penalty = l1, C = 1.0\n",
      "Accuracy: 82.5% | penalty = l1, C = 10.0\n",
      "Accuracy: 82.5% | penalty = l1, C = 1000.0\n",
      "Accuracy: 80.4% | penalty = l2, C = 0.01\n",
      "Accuracy: 83.5% | penalty = l2, C = 0.1\n",
      "Accuracy: 82.8% | penalty = l2, C = 1.0\n",
      "Accuracy: 82.5% | penalty = l2, C = 10.0\n",
      "Accuracy: 82.5% | penalty = l2, C = 1000.0\n"
     ]
    }
   ],
   "source": [
    "# create a list of penalties\n",
    "penalties = ['l1', 'l2']\n",
    "# create a list of values for C\n",
    "C = [0.01, 0.1, 1.0, 10.0, 1000.0]\n",
    "\n",
    "x_vals = []\n",
    "y_vals = []\n",
    "grp = []\n",
    "\n",
    "for penalty in penalties:\n",
    "    for c in C:\n",
    "\n",
    "        # instantiate the classifier\n",
    "        lrc_tuned = LogisticRegression(penalty=penalty, C=c, solver='liblinear')\n",
    "\n",
    "        # fit the classifier to the training data\n",
    "        lrc_tuned.fit(X_train, y_train)\n",
    "        \n",
    "        # predict with the classifier using the .predict() function\n",
    "        y_pred = lrc_tuned.predict(X_test)\n",
    "\n",
    "        # view the model accuracy with the accuracy_score() function\n",
    "        accuracy = accuracy_score(y_test, y_pred)\n",
    "        accuracy_rd = round(accuracy*100,1)\n",
    "        \n",
    "        # print accuracy for each combination of penalty and C\n",
    "        print(f'Accuracy: {accuracy_rd}% | penalty = {penalty}, C = {c}')\n",
    "        x_vals.append(c)\n",
    "        y_vals.append(accuracy_rd)\n",
    "        grp.append(penalty)"
   ]
  },
  {
   "cell_type": "code",
   "execution_count": 21,
   "id": "a98eec4f-f9d9-4359-ab0a-f72fd9da93cf",
   "metadata": {},
   "outputs": [
    {
     "data": {
      "text/plain": [
       "<AxesSubplot: xlabel='Reg_Strength', ylabel='Accuracy'>"
      ]
     },
     "execution_count": 21,
     "metadata": {},
     "output_type": "execute_result"
    },
    {
     "data": {
      "image/png": "[encoded data removed]",
      "text/plain": [
       "<Figure size 640x480 with 1 Axes>"
      ]
     },
     "metadata": {},
     "output_type": "display_data"
    }
   ],
   "source": [
    "eval_df = pd.DataFrame(\n",
    "    {\n",
    "        'Reg_Strength': x_vals,\n",
    "        'Accuracy': y_vals,\n",
    "        'Penalty_Type': grp,\n",
    "    }\n",
    ")\n",
    "\n",
    "sns.scatterplot(data=eval_df, x='Reg_Strength', y='Accuracy', hue='Penalty_Type')"
   ]
  },
  {
   "cell_type": "markdown",
   "id": "294195cd",
   "metadata": {},
   "source": [
    "<details>\n",
    "    <summary style=\"display:list-item; font-size:16px; color:blue;\"><i>What did we discover in this step? Toggle to check!</i></summary>\n",
    "\n",
    "A lot of these accuracy scores are very similar (or identical) to our original accuracy score. This is due in part to the fact that `sklearn` automatically uses regularization with `penalty = l2` and `C = 1.0`. While this is not always the case, we gain a small benefit by changing the hyperparameters to `penalty = l1` and `C = 0.1`. This brings us from 82.8% to 84.6% accuracy.\n",
    "\n",
    "</details>"
   ]
  },
  {
   "cell_type": "markdown",
   "id": "a7157c02",
   "metadata": {},
   "source": [
    "### 11. Optimize by changing test size\n",
    "\n",
    "In the cell above, we see that sweeping our parameters did not yield much improvement in prediction accuracy. Let's try another method of parameter tuning: changing the test size of the train-test split. A list of test sizes between 0 and 1 has been coded for you. Similar to the last task, at each test size the code performs a train-test split, fits the model, and computes an accuracy score.\n",
    "\n",
    "Run the code to see how test size affects accuracy. If you'd like, try changing the list of test sizes to get better accuracy."
   ]
  },
  {
   "cell_type": "code",
   "execution_count": 22,
   "id": "59988a50",
   "metadata": {},
   "outputs": [
    {
     "data": {
      "text/plain": [
       "<AxesSubplot: xlabel='Test Size', ylabel='Accuracy'>"
      ]
     },
     "execution_count": 22,
     "metadata": {},
     "output_type": "execute_result"
    },
    {
     "data": {
      "image/png": "[encoded data removed]",
      "text/plain": [
       "<Figure size 640x480 with 1 Axes>"
      ]
     },
     "metadata": {},
     "output_type": "display_data"
    }
   ],
   "source": [
    "# optimal penalty and C\n",
    "penalty = 'l1'\n",
    "C = 0.1\n",
    "\n",
    "# create a list of test_sizes\n",
    "test_sizes = [val/100 for val in range(1,100)]\n",
    "\n",
    "x_vals = []\n",
    "y_vals = []\n",
    "tt = []\n",
    "\n",
    "for test_size in test_sizes:\n",
    "\n",
    "    # train-test split\n",
    "    X_train, X_test, y_train, y_test = train_test_split(X, y, test_size=test_size, random_state=42)\n",
    "\n",
    "    # instantiate the classifier\n",
    "    lrc_tts = LogisticRegression(penalty = penalty, C = C, solver='liblinear')\n",
    "\n",
    "    # fit the classifier to the training data\n",
    "    lrc_tts.fit(X_train, y_train)\n",
    "\n",
    "    # predict with the classifier using the .predict() function\n",
    "    y_pred = lrc_tts.predict(X_test)\n",
    "    y_pred_train = lrc_tts.predict(X_train)\n",
    "\n",
    "    # view the model accuracy with the accuracy_score() function\n",
    "    accuracy_test = accuracy_score(y_test, y_pred)\n",
    "    accuracy_train = accuracy_score(y_train, y_pred_train)\n",
    "    accuracy_rd = round(accuracy_test*100,1)\n",
    "    accuracy_rd_train = round(accuracy_train*100,1)\n",
    "    \n",
    "    # print accuracy for each combination of penalty and test size\n",
    "    # print(f'Accuracy: {accuracy_rd}% | test size = {test_size}')\n",
    "    \n",
    "    x_vals.append(test_size)\n",
    "    y_vals.append(accuracy_rd)\n",
    "    tt.append('Test')\n",
    "    \n",
    "    x_vals.append(test_size)\n",
    "    y_vals.append(accuracy_rd_train)\n",
    "    tt.append('Train')\n",
    "    \n",
    "eval_df = pd.DataFrame(\n",
    "    {\n",
    "        'Test Size': x_vals,\n",
    "        'Accuracy': y_vals,\n",
    "        'TT': tt,\n",
    "    }\n",
    ")\n",
    "\n",
    "sns.lineplot(data=eval_df, x='Test Size', y='Accuracy', hue='TT')"
   ]
  },
  {
   "cell_type": "markdown",
   "id": "bb1fc6d9",
   "metadata": {},
   "source": [
    "<details>\n",
    "    <summary style=\"display:list-item; font-size:16px; color:blue;\"><i>What did we discover in this step? Toggle to check!</i></summary>\n",
    "\n",
    "As we can see from the output, we were able to improve accuracy slightly with a test size of `0.25`. In this step, we improved from 84.6% correct predictions to 88.8% correct predictions. Nice!\n",
    "\n",
    "</details>"
   ]
  },
  {
   "cell_type": "markdown",
   "id": "bcb1c87a",
   "metadata": {},
   "source": [
    "### 12. Save the optimized model\n",
    "\n",
    "Now that we know which parameters optimize our model, let's run and save the final model with our choices for `test_size`, `penalty`, and `C`. Fill in the code to run and save the final model as `optLr`. Continue setting `random_state=42` for the split."
   ]
  },
  {
   "cell_type": "code",
   "execution_count": 23,
   "id": "8e5de054",
   "metadata": {},
   "outputs": [
    {
     "data": {
      "text/html": [
       "<style>#sk-container-id-2 {color: black;background-color: white;}#sk-container-id-2 pre{padding: 0;}#sk-container-id-2 div.sk-toggleable {background-color: white;}#sk-container-id-2 label.sk-toggleable__label {cursor: pointer;display: block;width: 100%;margin-bottom: 0;padding: 0.3em;box-sizing: border-box;text-align: center;}#sk-container-id-2 label.sk-toggleable__label-arrow:before {content: \"▸\";float: left;margin-right: 0.25em;color: #696969;}#sk-container-id-2 label.sk-toggleable__label-arrow:hover:before {color: black;}#sk-container-id-2 div.sk-estimator:hover label.sk-toggleable__label-arrow:before {color: black;}#sk-container-id-2 div.sk-toggleable__content {max-height: 0;max-width: 0;overflow: hidden;text-align: left;background-color: #f0f8ff;}#sk-container-id-2 div.sk-toggleable__content pre {margin: 0.2em;color: black;border-radius: 0.25em;background-color: #f0f8ff;}#sk-container-id-2 input.sk-toggleable__control:checked~div.sk-toggleable__content {max-height: 200px;max-width: 100%;overflow: auto;}#sk-container-id-2 input.sk-toggleable__control:checked~label.sk-toggleable__label-arrow:before {content: \"▾\";}#sk-container-id-2 div.sk-estimator input.sk-toggleable__control:checked~label.sk-toggleable__label {background-color: #d4ebff;}#sk-container-id-2 div.sk-label input.sk-toggleable__control:checked~label.sk-toggleable__label {background-color: #d4ebff;}#sk-container-id-2 input.sk-hidden--visually {border: 0;clip: rect(1px 1px 1px 1px);clip: rect(1px, 1px, 1px, 1px);height: 1px;margin: -1px;overflow: hidden;padding: 0;position: absolute;width: 1px;}#sk-container-id-2 div.sk-estimator {font-family: monospace;background-color: #f0f8ff;border: 1px dotted black;border-radius: 0.25em;box-sizing: border-box;margin-bottom: 0.5em;}#sk-container-id-2 div.sk-estimator:hover {background-color: #d4ebff;}#sk-container-id-2 div.sk-parallel-item::after {content: \"\";width: 100%;border-bottom: 1px solid gray;flex-grow: 1;}#sk-container-id-2 div.sk-label:hover label.sk-toggleable__label {background-color: #d4ebff;}#sk-container-id-2 div.sk-serial::before {content: \"\";position: absolute;border-left: 1px solid gray;box-sizing: border-box;top: 0;bottom: 0;left: 50%;z-index: 0;}#sk-container-id-2 div.sk-serial {display: flex;flex-direction: column;align-items: center;background-color: white;padding-right: 0.2em;padding-left: 0.2em;position: relative;}#sk-container-id-2 div.sk-item {position: relative;z-index: 1;}#sk-container-id-2 div.sk-parallel {display: flex;align-items: stretch;justify-content: center;background-color: white;position: relative;}#sk-container-id-2 div.sk-item::before, #sk-container-id-2 div.sk-parallel-item::before {content: \"\";position: absolute;border-left: 1px solid gray;box-sizing: border-box;top: 0;bottom: 0;left: 50%;z-index: -1;}#sk-container-id-2 div.sk-parallel-item {display: flex;flex-direction: column;z-index: 1;position: relative;background-color: white;}#sk-container-id-2 div.sk-parallel-item:first-child::after {align-self: flex-end;width: 50%;}#sk-container-id-2 div.sk-parallel-item:last-child::after {align-self: flex-start;width: 50%;}#sk-container-id-2 div.sk-parallel-item:only-child::after {width: 0;}#sk-container-id-2 div.sk-dashed-wrapped {border: 1px dashed gray;margin: 0 0.4em 0.5em 0.4em;box-sizing: border-box;padding-bottom: 0.4em;background-color: white;}#sk-container-id-2 div.sk-label label {font-family: monospace;font-weight: bold;display: inline-block;line-height: 1.2em;}#sk-container-id-2 div.sk-label-container {text-align: center;}#sk-container-id-2 div.sk-container {/* jupyter's `normalize.less` sets `[hidden] { display: none; }` but bootstrap.min.css set `[hidden] { display: none !important; }` so we also need the `!important` here to be able to override the default hidden behavior on the sphinx rendered scikit-learn.org. See: https://github.com/scikit-learn/scikit-learn/issues/21755 */display: inline-block !important;position: relative;}#sk-container-id-2 div.sk-text-repr-fallback {display: none;}</style><div id=\"sk-container-id-2\" class=\"sk-top-container\"><div class=\"sk-text-repr-fallback\"><pre>LogisticRegression(C=0.1, penalty=&#x27;l1&#x27;, solver=&#x27;liblinear&#x27;)</pre><b>In a Jupyter environment, please rerun this cell to show the HTML representation or trust the notebook. <br />On GitHub, the HTML representation is unable to render, please try loading this page with nbviewer.org.</b></div><div class=\"sk-container\" hidden><div class=\"sk-item\"><div class=\"sk-estimator sk-toggleable\"><input class=\"sk-toggleable__control sk-hidden--visually\" id=\"sk-estimator-id-2\" type=\"checkbox\" checked><label for=\"sk-estimator-id-2\" class=\"sk-toggleable__label sk-toggleable__label-arrow\">LogisticRegression</label><div class=\"sk-toggleable__content\"><pre>LogisticRegression(C=0.1, penalty=&#x27;l1&#x27;, solver=&#x27;liblinear&#x27;)</pre></div></div></div></div></div>"
      ],
      "text/plain": [
       "LogisticRegression(C=0.1, penalty='l1', solver='liblinear')"
      ]
     },
     "execution_count": 23,
     "metadata": {},
     "output_type": "execute_result"
    }
   ],
   "source": [
    "# set the test size and hyperparameters\n",
    "test_size = 0.25\n",
    "penalty = 'l1'\n",
    "C = 0.1\n",
    "\n",
    "# train-test split\n",
    "X_train, X_test, y_train, y_test = train_test_split(X, y, test_size=test_size, random_state=42)\n",
    "\n",
    "# instantiate the classifier\n",
    "optLr = LogisticRegression(penalty = penalty, C = C, solver='liblinear')\n",
    "\n",
    "# fit the classifier to the training data\n",
    "optLr.fit(X_train, y_train)"
   ]
  },
  {
   "cell_type": "markdown",
   "id": "f9d42ccd",
   "metadata": {},
   "source": [
    "<details>\n",
    "    <summary style=\"display:list-item; font-size:16px; color:blue;\"><i>What did we discover in this step? Toggle to check!</i></summary>\n",
    "\n",
    "We are using `test_size = 0.25`, `penalty = 'l1'`, and `C = 0.1` as our optimal model parameters.\n",
    "\n",
    "</details>"
   ]
  },
  {
   "cell_type": "markdown",
   "id": "92a84c85",
   "metadata": {},
   "source": [
    "### 13. Examine feature importance\n",
    "\n",
    "Let's find out which stats were most important to our model predicting wins. The absolute values of the model coefficients has been saved for you as `importance`. We'll print and plot these scores to see which stat has the highest score.\n",
    "\n",
    "Add code to create a bar plot of the feature importances."
   ]
  },
  {
   "cell_type": "code",
   "execution_count": 24,
   "id": "014a1d29-bf2a-4aa7-8255-bd403649d1d7",
   "metadata": {},
   "outputs": [
    {
     "data": {
      "text/html": [
       "<div>\n",
       "<style scoped>\n",
       "    .dataframe tbody tr th:only-of-type {\n",
       "        vertical-align: middle;\n",
       "    }\n",
       "\n",
       "    .dataframe tbody tr th {\n",
       "        vertical-align: top;\n",
       "    }\n",
       "\n",
       "    .dataframe thead th {\n",
       "        text-align: right;\n",
       "    }\n",
       "</style>\n",
       "<table border=\"1\" class=\"dataframe\">\n",
       "  <thead>\n",
       "    <tr style=\"text-align: right;\">\n",
       "      <th></th>\n",
       "      <th>1stD_offense</th>\n",
       "      <th>TotYd_offense</th>\n",
       "      <th>PassY_offense</th>\n",
       "      <th>RushY_offense</th>\n",
       "      <th>TO_offense</th>\n",
       "      <th>1stD_defense</th>\n",
       "      <th>TotYd_defense</th>\n",
       "      <th>PassY_defense</th>\n",
       "      <th>RushY_defense</th>\n",
       "      <th>TO_defense</th>\n",
       "    </tr>\n",
       "  </thead>\n",
       "  <tbody>\n",
       "    <tr>\n",
       "      <th>0</th>\n",
       "      <td>22</td>\n",
       "      <td>416</td>\n",
       "      <td>280</td>\n",
       "      <td>136</td>\n",
       "      <td>1</td>\n",
       "      <td>17</td>\n",
       "      <td>248</td>\n",
       "      <td>162</td>\n",
       "      <td>86</td>\n",
       "      <td>3</td>\n",
       "    </tr>\n",
       "    <tr>\n",
       "      <th>1</th>\n",
       "      <td>21</td>\n",
       "      <td>474</td>\n",
       "      <td>371</td>\n",
       "      <td>103</td>\n",
       "      <td>2</td>\n",
       "      <td>22</td>\n",
       "      <td>419</td>\n",
       "      <td>242</td>\n",
       "      <td>177</td>\n",
       "      <td>0</td>\n",
       "    </tr>\n",
       "    <tr>\n",
       "      <th>2</th>\n",
       "      <td>23</td>\n",
       "      <td>407</td>\n",
       "      <td>316</td>\n",
       "      <td>91</td>\n",
       "      <td>1</td>\n",
       "      <td>20</td>\n",
       "      <td>361</td>\n",
       "      <td>202</td>\n",
       "      <td>159</td>\n",
       "      <td>4</td>\n",
       "    </tr>\n",
       "    <tr>\n",
       "      <th>3</th>\n",
       "      <td>27</td>\n",
       "      <td>465</td>\n",
       "      <td>249</td>\n",
       "      <td>216</td>\n",
       "      <td>0</td>\n",
       "      <td>24</td>\n",
       "      <td>401</td>\n",
       "      <td>280</td>\n",
       "      <td>121</td>\n",
       "      <td>2</td>\n",
       "    </tr>\n",
       "    <tr>\n",
       "      <th>4</th>\n",
       "      <td>20</td>\n",
       "      <td>304</td>\n",
       "      <td>210</td>\n",
       "      <td>94</td>\n",
       "      <td>1</td>\n",
       "      <td>19</td>\n",
       "      <td>338</td>\n",
       "      <td>186</td>\n",
       "      <td>152</td>\n",
       "      <td>1</td>\n",
       "    </tr>\n",
       "    <tr>\n",
       "      <th>...</th>\n",
       "      <td>...</td>\n",
       "      <td>...</td>\n",
       "      <td>...</td>\n",
       "      <td>...</td>\n",
       "      <td>...</td>\n",
       "      <td>...</td>\n",
       "      <td>...</td>\n",
       "      <td>...</td>\n",
       "      <td>...</td>\n",
       "      <td>...</td>\n",
       "    </tr>\n",
       "    <tr>\n",
       "      <th>565</th>\n",
       "      <td>14</td>\n",
       "      <td>224</td>\n",
       "      <td>124</td>\n",
       "      <td>100</td>\n",
       "      <td>4</td>\n",
       "      <td>19</td>\n",
       "      <td>323</td>\n",
       "      <td>201</td>\n",
       "      <td>122</td>\n",
       "      <td>2</td>\n",
       "    </tr>\n",
       "    <tr>\n",
       "      <th>566</th>\n",
       "      <td>14</td>\n",
       "      <td>237</td>\n",
       "      <td>174</td>\n",
       "      <td>63</td>\n",
       "      <td>0</td>\n",
       "      <td>23</td>\n",
       "      <td>519</td>\n",
       "      <td>281</td>\n",
       "      <td>238</td>\n",
       "      <td>2</td>\n",
       "    </tr>\n",
       "    <tr>\n",
       "      <th>567</th>\n",
       "      <td>14</td>\n",
       "      <td>257</td>\n",
       "      <td>172</td>\n",
       "      <td>85</td>\n",
       "      <td>2</td>\n",
       "      <td>28</td>\n",
       "      <td>497</td>\n",
       "      <td>389</td>\n",
       "      <td>108</td>\n",
       "      <td>0</td>\n",
       "    </tr>\n",
       "    <tr>\n",
       "      <th>568</th>\n",
       "      <td>24</td>\n",
       "      <td>312</td>\n",
       "      <td>218</td>\n",
       "      <td>94</td>\n",
       "      <td>1</td>\n",
       "      <td>18</td>\n",
       "      <td>330</td>\n",
       "      <td>212</td>\n",
       "      <td>118</td>\n",
       "      <td>0</td>\n",
       "    </tr>\n",
       "    <tr>\n",
       "      <th>569</th>\n",
       "      <td>16</td>\n",
       "      <td>325</td>\n",
       "      <td>99</td>\n",
       "      <td>226</td>\n",
       "      <td>0</td>\n",
       "      <td>10</td>\n",
       "      <td>177</td>\n",
       "      <td>83</td>\n",
       "      <td>94</td>\n",
       "      <td>3</td>\n",
       "    </tr>\n",
       "  </tbody>\n",
       "</table>\n",
       "<p>570 rows × 10 columns</p>\n",
       "</div>"
      ],
      "text/plain": [
       "     1stD_offense  TotYd_offense  PassY_offense  RushY_offense  TO_offense  \\\n",
       "0              22            416            280            136           1   \n",
       "1              21            474            371            103           2   \n",
       "2              23            407            316             91           1   \n",
       "3              27            465            249            216           0   \n",
       "4              20            304            210             94           1   \n",
       "..            ...            ...            ...            ...         ...   \n",
       "565            14            224            124            100           4   \n",
       "566            14            237            174             63           0   \n",
       "567            14            257            172             85           2   \n",
       "568            24            312            218             94           1   \n",
       "569            16            325             99            226           0   \n",
       "\n",
       "     1stD_defense  TotYd_defense  PassY_defense  RushY_defense  TO_defense  \n",
       "0              17            248            162             86           3  \n",
       "1              22            419            242            177           0  \n",
       "2              20            361            202            159           4  \n",
       "3              24            401            280            121           2  \n",
       "4              19            338            186            152           1  \n",
       "..            ...            ...            ...            ...         ...  \n",
       "565            19            323            201            122           2  \n",
       "566            23            519            281            238           2  \n",
       "567            28            497            389            108           0  \n",
       "568            18            330            212            118           0  \n",
       "569            10            177             83             94           3  \n",
       "\n",
       "[570 rows x 10 columns]"
      ]
     },
     "execution_count": 24,
     "metadata": {},
     "output_type": "execute_result"
    }
   ],
   "source": [
    "features"
   ]
  },
  {
   "cell_type": "code",
   "execution_count": 25,
   "id": "c62690ad",
   "metadata": {},
   "outputs": [
    {
     "data": {
      "image/png": "[encoded data removed]",
      "text/plain": [
       "<Figure size 640x480 with 1 Axes>"
      ]
     },
     "metadata": {},
     "output_type": "display_data"
    },
    {
     "name": "stdout",
     "output_type": "stream",
     "text": [
      "Feature: 1stD_offense, Score: 0.08\n",
      "Feature: TotYd_offense, Score: 0.56\n",
      "Feature: PassY_offense, Score: 0.0\n",
      "Feature: RushY_offense, Score: 0.13\n",
      "Feature: TO_offense, Score: 0.75\n",
      "Feature: 1stD_defense, Score: 0.19\n",
      "Feature: TotYd_defense, Score: 0.6\n",
      "Feature: PassY_defense, Score: 0.0\n",
      "Feature: RushY_defense, Score: 0.21\n",
      "Feature: TO_defense, Score: 0.75\n"
     ]
    }
   ],
   "source": [
    "# get importance\n",
    "importance = abs(optLr.coef_[0])\n",
    "\n",
    "tmp_df = pd.DataFrame({'features':features.columns, 'importance':importance}).sort_values(by='importance', ascending=True)\n",
    "\n",
    "# visualize feature importance\n",
    "plt.barh(tmp_df.features, tmp_df.importance)\n",
    "\n",
    "# add labels and titles\n",
    "plt.suptitle('Feature Importance for Logistic Regression')\n",
    "plt.xlabel('Score')\n",
    "plt.ylabel('Stat')\n",
    "plt.show()\n",
    "\n",
    "\n",
    "# summarize feature importance\n",
    "for i,v in enumerate(importance.round(2)):\n",
    "    print(f'Feature: {features.columns[i]}, Score: {v}')"
   ]
  },
  {
   "cell_type": "markdown",
   "id": "4391d736",
   "metadata": {},
   "source": [
    "<details>\n",
    "    <summary style=\"display:list-item; font-size:16px; color:blue;\"><i>What did we discover in this step? Toggle to check!</i></summary>\n",
    "\n",
    "It looks like the most important stats in our model were turnovers: `TO_offense` and `TO_defense` both had much larger importance scores than the other stats. After that, total yards were the next most influential stats.\n",
    "\n",
    "</details>"
   ]
  },
  {
   "cell_type": "markdown",
   "id": "79280316",
   "metadata": {},
   "source": [
    "## Conclusion"
   ]
  },
  {
   "cell_type": "markdown",
   "id": "a6c1c192",
   "metadata": {},
   "source": [
    "### 13. Try your model on new data\n",
    "\n",
    "Congratulations! You've conducted a successful case study on NFL data where the outcome of a game can be predicted using the team's offensive and defensive stats from a given game. \n",
    "\n",
    "Want to see how your model holds up for 2022? Change the `team` variable to your favorite team's name in the code cell below. We've provided the helper function `get_new_data()` that will get that team's data for the given year from the site [Pro Football Reference](https://www.pro-football-reference.com/).\n",
    "\n",
    "We've provided the code for this final step, but we encourage learners who feel confident enough to try the challenge of coding the solution themselves!"
   ]
  },
  {
   "cell_type": "code",
   "execution_count": 27,
   "id": "24269af0",
   "metadata": {
    "scrolled": true
   },
   "outputs": [
    {
     "data": {
      "text/html": [
       "<div>\n",
       "<style scoped>\n",
       "    .dataframe tbody tr th:only-of-type {\n",
       "        vertical-align: middle;\n",
       "    }\n",
       "\n",
       "    .dataframe tbody tr th {\n",
       "        vertical-align: top;\n",
       "    }\n",
       "\n",
       "    .dataframe thead th {\n",
       "        text-align: right;\n",
       "    }\n",
       "</style>\n",
       "<table border=\"1\" class=\"dataframe\">\n",
       "  <thead>\n",
       "    <tr style=\"text-align: right;\">\n",
       "      <th></th>\n",
       "      <th>team_name</th>\n",
       "      <th>week</th>\n",
       "      <th>day</th>\n",
       "      <th>date</th>\n",
       "      <th>result</th>\n",
       "      <th>opponent</th>\n",
       "      <th>tm_score</th>\n",
       "      <th>opp_score</th>\n",
       "      <th>1stD_offense</th>\n",
       "      <th>TotYd_offense</th>\n",
       "      <th>PassY_offense</th>\n",
       "      <th>RushY_offense</th>\n",
       "      <th>TO_offense</th>\n",
       "      <th>1stD_defense</th>\n",
       "      <th>TotYd_defense</th>\n",
       "      <th>PassY_defense</th>\n",
       "      <th>RushY_defense</th>\n",
       "      <th>TO_defense</th>\n",
       "    </tr>\n",
       "  </thead>\n",
       "  <tbody>\n",
       "    <tr>\n",
       "      <th>0</th>\n",
       "      <td>Cincinnati Bengals</td>\n",
       "      <td>1</td>\n",
       "      <td>Sun</td>\n",
       "      <td>September 11</td>\n",
       "      <td>0</td>\n",
       "      <td>Pittsburgh Steelers</td>\n",
       "      <td>20</td>\n",
       "      <td>23</td>\n",
       "      <td>32</td>\n",
       "      <td>432</td>\n",
       "      <td>299</td>\n",
       "      <td>133</td>\n",
       "      <td>5</td>\n",
       "      <td>13</td>\n",
       "      <td>267</td>\n",
       "      <td>192</td>\n",
       "      <td>75</td>\n",
       "      <td>0</td>\n",
       "    </tr>\n",
       "    <tr>\n",
       "      <th>1</th>\n",
       "      <td>Cincinnati Bengals</td>\n",
       "      <td>2</td>\n",
       "      <td>Sun</td>\n",
       "      <td>September 18</td>\n",
       "      <td>0</td>\n",
       "      <td>Dallas Cowboys</td>\n",
       "      <td>17</td>\n",
       "      <td>20</td>\n",
       "      <td>19</td>\n",
       "      <td>254</td>\n",
       "      <td>165</td>\n",
       "      <td>89</td>\n",
       "      <td>0</td>\n",
       "      <td>19</td>\n",
       "      <td>337</td>\n",
       "      <td>230</td>\n",
       "      <td>107</td>\n",
       "      <td>1</td>\n",
       "    </tr>\n",
       "    <tr>\n",
       "      <th>2</th>\n",
       "      <td>Cincinnati Bengals</td>\n",
       "      <td>3</td>\n",
       "      <td>Sun</td>\n",
       "      <td>September 25</td>\n",
       "      <td>1</td>\n",
       "      <td>New York Jets</td>\n",
       "      <td>27</td>\n",
       "      <td>12</td>\n",
       "      <td>20</td>\n",
       "      <td>330</td>\n",
       "      <td>261</td>\n",
       "      <td>69</td>\n",
       "      <td>1</td>\n",
       "      <td>19</td>\n",
       "      <td>328</td>\n",
       "      <td>252</td>\n",
       "      <td>76</td>\n",
       "      <td>4</td>\n",
       "    </tr>\n",
       "    <tr>\n",
       "      <th>3</th>\n",
       "      <td>Cincinnati Bengals</td>\n",
       "      <td>4</td>\n",
       "      <td>Thu</td>\n",
       "      <td>September 29</td>\n",
       "      <td>1</td>\n",
       "      <td>Miami Dolphins</td>\n",
       "      <td>27</td>\n",
       "      <td>15</td>\n",
       "      <td>16</td>\n",
       "      <td>371</td>\n",
       "      <td>304</td>\n",
       "      <td>67</td>\n",
       "      <td>0</td>\n",
       "      <td>20</td>\n",
       "      <td>378</td>\n",
       "      <td>293</td>\n",
       "      <td>85</td>\n",
       "      <td>2</td>\n",
       "    </tr>\n",
       "    <tr>\n",
       "      <th>4</th>\n",
       "      <td>Cincinnati Bengals</td>\n",
       "      <td>5</td>\n",
       "      <td>Sun</td>\n",
       "      <td>October 9</td>\n",
       "      <td>0</td>\n",
       "      <td>Baltimore Ravens</td>\n",
       "      <td>17</td>\n",
       "      <td>19</td>\n",
       "      <td>20</td>\n",
       "      <td>291</td>\n",
       "      <td>190</td>\n",
       "      <td>101</td>\n",
       "      <td>1</td>\n",
       "      <td>22</td>\n",
       "      <td>325</td>\n",
       "      <td>170</td>\n",
       "      <td>155</td>\n",
       "      <td>1</td>\n",
       "    </tr>\n",
       "  </tbody>\n",
       "</table>\n",
       "</div>"
      ],
      "text/plain": [
       "            team_name  week  day          date result             opponent  \\\n",
       "0  Cincinnati Bengals     1  Sun  September 11      0  Pittsburgh Steelers   \n",
       "1  Cincinnati Bengals     2  Sun  September 18      0       Dallas Cowboys   \n",
       "2  Cincinnati Bengals     3  Sun  September 25      1        New York Jets   \n",
       "3  Cincinnati Bengals     4  Thu  September 29      1       Miami Dolphins   \n",
       "4  Cincinnati Bengals     5  Sun     October 9      0     Baltimore Ravens   \n",
       "\n",
       "  tm_score opp_score 1stD_offense TotYd_offense PassY_offense RushY_offense  \\\n",
       "0       20        23           32           432           299           133   \n",
       "1       17        20           19           254           165            89   \n",
       "2       27        12           20           330           261            69   \n",
       "3       27        15           16           371           304            67   \n",
       "4       17        19           20           291           190           101   \n",
       "\n",
       "  TO_offense 1stD_defense TotYd_defense PassY_defense RushY_defense TO_defense  \n",
       "0          5           13           267           192            75          0  \n",
       "1          0           19           337           230           107          1  \n",
       "2          1           19           328           252            76          4  \n",
       "3          0           20           378           293            85          2  \n",
       "4          1           22           325           170           155          1  "
      ]
     },
     "execution_count": 27,
     "metadata": {},
     "output_type": "execute_result"
    }
   ],
   "source": [
    "# set team abbreviation (in capitals) and year\n",
    "team = 'Cincinnati Bengals'\n",
    "year = 2022\n",
    "\n",
    "# use helper function to pull new data\n",
    "from helper import get_new_data\n",
    "new_data = get_new_data(team=team, year=year)\n",
    "\n",
    "# view head of new data\n",
    "new_data.head()"
   ]
  },
  {
   "cell_type": "markdown",
   "id": "569f4d52",
   "metadata": {},
   "source": [
    "<details>\n",
    "    <summary style=\"display:list-item; font-size:16px;\"><i>Need to check the team names? Toggle for code to print a list!</i></summary>\n",
    "\n",
    "Copy and paste this code into a new code cell to get a list of team names.\n",
    "\n",
    "```py\n",
    "list(nfl.team_name.unique())\n",
    "```\n",
    "\n",
    "</details>"
   ]
  },
  {
   "cell_type": "markdown",
   "id": "e94f0188",
   "metadata": {},
   "source": [
    "Before we can run the data in our model and get predictions, we need to standardize the stats using the same `scaler` we used for our original dataset."
   ]
  },
  {
   "cell_type": "code",
   "execution_count": 28,
   "id": "f5f56c37",
   "metadata": {},
   "outputs": [],
   "source": [
    "# select just the game stats\n",
    "new_X = new_data.loc[:,features.columns]\n",
    "\n",
    "# standardize using original data's scaling\n",
    "new_X_sc = scaler.transform(new_X)"
   ]
  },
  {
   "cell_type": "markdown",
   "id": "cc980b71",
   "metadata": {},
   "source": [
    "Now we can use our model to make predictions and get an accuracy score for how well our model predicted wins with the new data."
   ]
  },
  {
   "cell_type": "code",
   "execution_count": 29,
   "id": "0d3fe65e",
   "metadata": {},
   "outputs": [],
   "source": [
    "# get new predictions\n",
    "new_preds = optLr.predict(new_X_sc)\n",
    "\n",
    "# get actual results and set type to float\n",
    "new_results = new_data['result'].astype(float)\n",
    "\n",
    "# get accuracy score for new data\n",
    "acc_score = accuracy_score(new_results, new_preds)"
   ]
  },
  {
   "cell_type": "markdown",
   "id": "30eb9eaf",
   "metadata": {},
   "source": [
    "Let's put all this information together in a table and print out our accuracy score."
   ]
  },
  {
   "cell_type": "code",
   "execution_count": 30,
   "id": "8f51e427",
   "metadata": {},
   "outputs": [],
   "source": [
    "# select only game data\n",
    "col_names = ['day', 'date', 'result', 'opponent', 'tm_score', 'opp_score']\n",
    "game_data = new_data.loc[:,col_names]\n",
    "# create comparison table\n",
    "comp_table = game_data.assign(predicted = new_preds,\n",
    "                              actual = new_results.astype(int))"
   ]
  },
  {
   "cell_type": "code",
   "execution_count": 31,
   "id": "571f96f9",
   "metadata": {},
   "outputs": [
    {
     "name": "stdout",
     "output_type": "stream",
     "text": [
      "Predicted Wins vs Actual Wins for Cincinnati Bengals in 2022\n"
     ]
    },
    {
     "data": {
      "text/html": [
       "<div>\n",
       "<style scoped>\n",
       "    .dataframe tbody tr th:only-of-type {\n",
       "        vertical-align: middle;\n",
       "    }\n",
       "\n",
       "    .dataframe tbody tr th {\n",
       "        vertical-align: top;\n",
       "    }\n",
       "\n",
       "    .dataframe thead th {\n",
       "        text-align: right;\n",
       "    }\n",
       "</style>\n",
       "<table border=\"1\" class=\"dataframe\">\n",
       "  <thead>\n",
       "    <tr style=\"text-align: right;\">\n",
       "      <th></th>\n",
       "      <th>day</th>\n",
       "      <th>date</th>\n",
       "      <th>result</th>\n",
       "      <th>opponent</th>\n",
       "      <th>tm_score</th>\n",
       "      <th>opp_score</th>\n",
       "      <th>predicted</th>\n",
       "      <th>actual</th>\n",
       "    </tr>\n",
       "  </thead>\n",
       "  <tbody>\n",
       "    <tr>\n",
       "      <th>0</th>\n",
       "      <td>Sun</td>\n",
       "      <td>September 11</td>\n",
       "      <td>0</td>\n",
       "      <td>Pittsburgh Steelers</td>\n",
       "      <td>20</td>\n",
       "      <td>23</td>\n",
       "      <td>0</td>\n",
       "      <td>0</td>\n",
       "    </tr>\n",
       "    <tr>\n",
       "      <th>1</th>\n",
       "      <td>Sun</td>\n",
       "      <td>September 18</td>\n",
       "      <td>0</td>\n",
       "      <td>Dallas Cowboys</td>\n",
       "      <td>17</td>\n",
       "      <td>20</td>\n",
       "      <td>1</td>\n",
       "      <td>0</td>\n",
       "    </tr>\n",
       "    <tr>\n",
       "      <th>2</th>\n",
       "      <td>Sun</td>\n",
       "      <td>September 25</td>\n",
       "      <td>1</td>\n",
       "      <td>New York Jets</td>\n",
       "      <td>27</td>\n",
       "      <td>12</td>\n",
       "      <td>1</td>\n",
       "      <td>1</td>\n",
       "    </tr>\n",
       "    <tr>\n",
       "      <th>3</th>\n",
       "      <td>Thu</td>\n",
       "      <td>September 29</td>\n",
       "      <td>1</td>\n",
       "      <td>Miami Dolphins</td>\n",
       "      <td>27</td>\n",
       "      <td>15</td>\n",
       "      <td>1</td>\n",
       "      <td>1</td>\n",
       "    </tr>\n",
       "    <tr>\n",
       "      <th>4</th>\n",
       "      <td>Sun</td>\n",
       "      <td>October 9</td>\n",
       "      <td>0</td>\n",
       "      <td>Baltimore Ravens</td>\n",
       "      <td>17</td>\n",
       "      <td>19</td>\n",
       "      <td>0</td>\n",
       "      <td>0</td>\n",
       "    </tr>\n",
       "    <tr>\n",
       "      <th>5</th>\n",
       "      <td>Sun</td>\n",
       "      <td>October 16</td>\n",
       "      <td>1</td>\n",
       "      <td>New Orleans Saints</td>\n",
       "      <td>30</td>\n",
       "      <td>26</td>\n",
       "      <td>0</td>\n",
       "      <td>1</td>\n",
       "    </tr>\n",
       "    <tr>\n",
       "      <th>6</th>\n",
       "      <td>Sun</td>\n",
       "      <td>October 23</td>\n",
       "      <td>1</td>\n",
       "      <td>Atlanta Falcons</td>\n",
       "      <td>35</td>\n",
       "      <td>17</td>\n",
       "      <td>1</td>\n",
       "      <td>1</td>\n",
       "    </tr>\n",
       "    <tr>\n",
       "      <th>7</th>\n",
       "      <td>Mon</td>\n",
       "      <td>October 31</td>\n",
       "      <td>0</td>\n",
       "      <td>Cleveland Browns</td>\n",
       "      <td>13</td>\n",
       "      <td>32</td>\n",
       "      <td>0</td>\n",
       "      <td>0</td>\n",
       "    </tr>\n",
       "  </tbody>\n",
       "</table>\n",
       "</div>"
      ],
      "text/plain": [
       "   day          date result             opponent tm_score opp_score  \\\n",
       "0  Sun  September 11      0  Pittsburgh Steelers       20        23   \n",
       "1  Sun  September 18      0       Dallas Cowboys       17        20   \n",
       "2  Sun  September 25      1        New York Jets       27        12   \n",
       "3  Thu  September 29      1       Miami Dolphins       27        15   \n",
       "4  Sun     October 9      0     Baltimore Ravens       17        19   \n",
       "5  Sun    October 16      1   New Orleans Saints       30        26   \n",
       "6  Sun    October 23      1      Atlanta Falcons       35        17   \n",
       "7  Mon    October 31      0     Cleveland Browns       13        32   \n",
       "\n",
       "   predicted  actual  \n",
       "0          0       0  \n",
       "1          1       0  \n",
       "2          1       1  \n",
       "3          1       1  \n",
       "4          0       0  \n",
       "5          0       1  \n",
       "6          1       1  \n",
       "7          0       0  "
      ]
     },
     "execution_count": 31,
     "metadata": {},
     "output_type": "execute_result"
    }
   ],
   "source": [
    "# print title and table\n",
    "print(f'Predicted Wins vs Actual Wins for {team} in {year}')\n",
    "comp_table"
   ]
  },
  {
   "cell_type": "code",
   "execution_count": 32,
   "id": "057cec1b",
   "metadata": {},
   "outputs": [
    {
     "name": "stdout",
     "output_type": "stream",
     "text": [
      "\n",
      "Current Accuracy Score: 75.0%\n"
     ]
    }
   ],
   "source": [
    "# print accuracy\n",
    "print(f'\\nCurrent Accuracy Score: ' + str(round(acc_score*100,1)) + '%')"
   ]
  },
  {
   "cell_type": "markdown",
   "id": "911a0a60",
   "metadata": {},
   "source": [
    "Our table gives us some context on the game, the opponent, and our prediction. Feel free to go back and change the team name or year (you can look at past years too!)."
   ]
  }
 ],
 "metadata": {
  "kernelspec": {
   "display_name": "ds",
   "language": "python",
   "name": "ds"
  },
  "language_info": {
   "codemirror_mode": {
    "name": "ipython",
    "version": 3
   },
   "file_extension": ".py",
   "mimetype": "text/x-python",
   "name": "python",
   "nbconvert_exporter": "python",
   "pygments_lexer": "ipython3",
   "version": "3.8.13"
  }
 },
 "nbformat": 4,
 "nbformat_minor": 5
}
